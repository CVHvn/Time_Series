{
  "nbformat": 4,
  "nbformat_minor": 0,
  "metadata": {
    "colab": {
      "provenance": []
    },
    "kernelspec": {
      "name": "python3",
      "display_name": "Python 3"
    },
    "language_info": {
      "name": "python"
    }
  },
  "cells": [
    {
      "cell_type": "markdown",
      "source": [
        "# dataset\n",
        "BTC price can be downloaded from https://finance.yahoo.com/quote/BTC-USD/history/\n",
        "\n",
        "We need change time range, click apply before download.\n",
        "\n",
        "When we download this file, we have csv file BTC-USD.csv contain: Date, Open, High, Low, Close*, Adj Close** and Volume columns.\n",
        "\n",
        "In this project, I use Open price to train and evaluate model."
      ],
      "metadata": {
        "id": "Bkwfugo4M4Oi"
      }
    },
    {
      "cell_type": "markdown",
      "source": [
        "# import library"
      ],
      "metadata": {
        "id": "jeI_xUygPGrj"
      }
    },
    {
      "cell_type": "code",
      "source": [
        "import pandas as pd\n",
        "import numpy as np\n",
        "import matplotlib.pyplot as plt\n",
        "\n",
        "import tensorflow as tf\n",
        "from sklearn.preprocessing import MinMaxScaler\n",
        "from sklearn.model_selection import train_test_split\n",
        "from tensorflow.keras.models import Sequential\n",
        "from tensorflow.keras.layers import LSTM, Dense"
      ],
      "metadata": {
        "id": "AEa8AufuPIvU"
      },
      "execution_count": 1,
      "outputs": []
    },
    {
      "cell_type": "markdown",
      "source": [
        "# Preprocessing and Visualizing\n",
        "We need to check data, preprocessing & Visualization include:\n",
        "- check null row\n",
        "- remove null data\n",
        "- describe Open columns to view min max\n",
        "- plot Open price and review it"
      ],
      "metadata": {
        "id": "ycXkD_9eOmvM"
      }
    },
    {
      "cell_type": "code",
      "source": [
        "#load file\n",
        "df = pd.read_csv(\"/content/BTC-USD.csv\")\n",
        "df"
      ],
      "metadata": {
        "colab": {
          "base_uri": "https://localhost:8080/",
          "height": 423
        },
        "id": "M7EIGPidsVcX",
        "outputId": "d1e9091e-7f8b-4d9d-dc08-81b751ffaf54"
      },
      "execution_count": 2,
      "outputs": [
        {
          "output_type": "execute_result",
          "data": {
            "text/plain": [
              "            Date          Open          High           Low         Close  \\\n",
              "0     2014-09-17    465.864014    468.174011    452.421997    457.334015   \n",
              "1     2014-09-18    456.859985    456.859985    413.104004    424.440002   \n",
              "2     2014-09-19    424.102997    427.834991    384.532013    394.795990   \n",
              "3     2014-09-20    394.673004    423.295990    389.882996    408.903992   \n",
              "4     2014-09-21    408.084991    412.425995    393.181000    398.821014   \n",
              "...          ...           ...           ...           ...           ...   \n",
              "3445  2024-02-22  51854.644531  52009.613281  50926.292969  51304.972656   \n",
              "3446  2024-02-23  51283.906250  51497.933594  50561.777344  50731.949219   \n",
              "3447  2024-02-24  50736.371094  51684.195313  50585.445313  51571.101563   \n",
              "3448  2024-02-25           NaN           NaN           NaN           NaN   \n",
              "3449  2024-02-26  51730.539063  51753.996094  51437.140625  51501.351563   \n",
              "\n",
              "         Adj Close        Volume  \n",
              "0       457.334015  2.105680e+07  \n",
              "1       424.440002  3.448320e+07  \n",
              "2       394.795990  3.791970e+07  \n",
              "3       408.903992  3.686360e+07  \n",
              "4       398.821014  2.658010e+07  \n",
              "...            ...           ...  \n",
              "3445  51304.972656  2.541390e+10  \n",
              "3446  50731.949219  2.142708e+10  \n",
              "3447  51571.101563  1.517408e+10  \n",
              "3448           NaN           NaN  \n",
              "3449  51501.351563  1.485930e+10  \n",
              "\n",
              "[3450 rows x 7 columns]"
            ],
            "text/html": [
              "\n",
              "  <div id=\"df-f723204f-5b65-472a-9b5d-d2fa792123ae\" class=\"colab-df-container\">\n",
              "    <div>\n",
              "<style scoped>\n",
              "    .dataframe tbody tr th:only-of-type {\n",
              "        vertical-align: middle;\n",
              "    }\n",
              "\n",
              "    .dataframe tbody tr th {\n",
              "        vertical-align: top;\n",
              "    }\n",
              "\n",
              "    .dataframe thead th {\n",
              "        text-align: right;\n",
              "    }\n",
              "</style>\n",
              "<table border=\"1\" class=\"dataframe\">\n",
              "  <thead>\n",
              "    <tr style=\"text-align: right;\">\n",
              "      <th></th>\n",
              "      <th>Date</th>\n",
              "      <th>Open</th>\n",
              "      <th>High</th>\n",
              "      <th>Low</th>\n",
              "      <th>Close</th>\n",
              "      <th>Adj Close</th>\n",
              "      <th>Volume</th>\n",
              "    </tr>\n",
              "  </thead>\n",
              "  <tbody>\n",
              "    <tr>\n",
              "      <th>0</th>\n",
              "      <td>2014-09-17</td>\n",
              "      <td>465.864014</td>\n",
              "      <td>468.174011</td>\n",
              "      <td>452.421997</td>\n",
              "      <td>457.334015</td>\n",
              "      <td>457.334015</td>\n",
              "      <td>2.105680e+07</td>\n",
              "    </tr>\n",
              "    <tr>\n",
              "      <th>1</th>\n",
              "      <td>2014-09-18</td>\n",
              "      <td>456.859985</td>\n",
              "      <td>456.859985</td>\n",
              "      <td>413.104004</td>\n",
              "      <td>424.440002</td>\n",
              "      <td>424.440002</td>\n",
              "      <td>3.448320e+07</td>\n",
              "    </tr>\n",
              "    <tr>\n",
              "      <th>2</th>\n",
              "      <td>2014-09-19</td>\n",
              "      <td>424.102997</td>\n",
              "      <td>427.834991</td>\n",
              "      <td>384.532013</td>\n",
              "      <td>394.795990</td>\n",
              "      <td>394.795990</td>\n",
              "      <td>3.791970e+07</td>\n",
              "    </tr>\n",
              "    <tr>\n",
              "      <th>3</th>\n",
              "      <td>2014-09-20</td>\n",
              "      <td>394.673004</td>\n",
              "      <td>423.295990</td>\n",
              "      <td>389.882996</td>\n",
              "      <td>408.903992</td>\n",
              "      <td>408.903992</td>\n",
              "      <td>3.686360e+07</td>\n",
              "    </tr>\n",
              "    <tr>\n",
              "      <th>4</th>\n",
              "      <td>2014-09-21</td>\n",
              "      <td>408.084991</td>\n",
              "      <td>412.425995</td>\n",
              "      <td>393.181000</td>\n",
              "      <td>398.821014</td>\n",
              "      <td>398.821014</td>\n",
              "      <td>2.658010e+07</td>\n",
              "    </tr>\n",
              "    <tr>\n",
              "      <th>...</th>\n",
              "      <td>...</td>\n",
              "      <td>...</td>\n",
              "      <td>...</td>\n",
              "      <td>...</td>\n",
              "      <td>...</td>\n",
              "      <td>...</td>\n",
              "      <td>...</td>\n",
              "    </tr>\n",
              "    <tr>\n",
              "      <th>3445</th>\n",
              "      <td>2024-02-22</td>\n",
              "      <td>51854.644531</td>\n",
              "      <td>52009.613281</td>\n",
              "      <td>50926.292969</td>\n",
              "      <td>51304.972656</td>\n",
              "      <td>51304.972656</td>\n",
              "      <td>2.541390e+10</td>\n",
              "    </tr>\n",
              "    <tr>\n",
              "      <th>3446</th>\n",
              "      <td>2024-02-23</td>\n",
              "      <td>51283.906250</td>\n",
              "      <td>51497.933594</td>\n",
              "      <td>50561.777344</td>\n",
              "      <td>50731.949219</td>\n",
              "      <td>50731.949219</td>\n",
              "      <td>2.142708e+10</td>\n",
              "    </tr>\n",
              "    <tr>\n",
              "      <th>3447</th>\n",
              "      <td>2024-02-24</td>\n",
              "      <td>50736.371094</td>\n",
              "      <td>51684.195313</td>\n",
              "      <td>50585.445313</td>\n",
              "      <td>51571.101563</td>\n",
              "      <td>51571.101563</td>\n",
              "      <td>1.517408e+10</td>\n",
              "    </tr>\n",
              "    <tr>\n",
              "      <th>3448</th>\n",
              "      <td>2024-02-25</td>\n",
              "      <td>NaN</td>\n",
              "      <td>NaN</td>\n",
              "      <td>NaN</td>\n",
              "      <td>NaN</td>\n",
              "      <td>NaN</td>\n",
              "      <td>NaN</td>\n",
              "    </tr>\n",
              "    <tr>\n",
              "      <th>3449</th>\n",
              "      <td>2024-02-26</td>\n",
              "      <td>51730.539063</td>\n",
              "      <td>51753.996094</td>\n",
              "      <td>51437.140625</td>\n",
              "      <td>51501.351563</td>\n",
              "      <td>51501.351563</td>\n",
              "      <td>1.485930e+10</td>\n",
              "    </tr>\n",
              "  </tbody>\n",
              "</table>\n",
              "<p>3450 rows × 7 columns</p>\n",
              "</div>\n",
              "    <div class=\"colab-df-buttons\">\n",
              "\n",
              "  <div class=\"colab-df-container\">\n",
              "    <button class=\"colab-df-convert\" onclick=\"convertToInteractive('df-f723204f-5b65-472a-9b5d-d2fa792123ae')\"\n",
              "            title=\"Convert this dataframe to an interactive table.\"\n",
              "            style=\"display:none;\">\n",
              "\n",
              "  <svg xmlns=\"http://www.w3.org/2000/svg\" height=\"24px\" viewBox=\"0 -960 960 960\">\n",
              "    <path d=\"M120-120v-720h720v720H120Zm60-500h600v-160H180v160Zm220 220h160v-160H400v160Zm0 220h160v-160H400v160ZM180-400h160v-160H180v160Zm440 0h160v-160H620v160ZM180-180h160v-160H180v160Zm440 0h160v-160H620v160Z\"/>\n",
              "  </svg>\n",
              "    </button>\n",
              "\n",
              "  <style>\n",
              "    .colab-df-container {\n",
              "      display:flex;\n",
              "      gap: 12px;\n",
              "    }\n",
              "\n",
              "    .colab-df-convert {\n",
              "      background-color: #E8F0FE;\n",
              "      border: none;\n",
              "      border-radius: 50%;\n",
              "      cursor: pointer;\n",
              "      display: none;\n",
              "      fill: #1967D2;\n",
              "      height: 32px;\n",
              "      padding: 0 0 0 0;\n",
              "      width: 32px;\n",
              "    }\n",
              "\n",
              "    .colab-df-convert:hover {\n",
              "      background-color: #E2EBFA;\n",
              "      box-shadow: 0px 1px 2px rgba(60, 64, 67, 0.3), 0px 1px 3px 1px rgba(60, 64, 67, 0.15);\n",
              "      fill: #174EA6;\n",
              "    }\n",
              "\n",
              "    .colab-df-buttons div {\n",
              "      margin-bottom: 4px;\n",
              "    }\n",
              "\n",
              "    [theme=dark] .colab-df-convert {\n",
              "      background-color: #3B4455;\n",
              "      fill: #D2E3FC;\n",
              "    }\n",
              "\n",
              "    [theme=dark] .colab-df-convert:hover {\n",
              "      background-color: #434B5C;\n",
              "      box-shadow: 0px 1px 3px 1px rgba(0, 0, 0, 0.15);\n",
              "      filter: drop-shadow(0px 1px 2px rgba(0, 0, 0, 0.3));\n",
              "      fill: #FFFFFF;\n",
              "    }\n",
              "  </style>\n",
              "\n",
              "    <script>\n",
              "      const buttonEl =\n",
              "        document.querySelector('#df-f723204f-5b65-472a-9b5d-d2fa792123ae button.colab-df-convert');\n",
              "      buttonEl.style.display =\n",
              "        google.colab.kernel.accessAllowed ? 'block' : 'none';\n",
              "\n",
              "      async function convertToInteractive(key) {\n",
              "        const element = document.querySelector('#df-f723204f-5b65-472a-9b5d-d2fa792123ae');\n",
              "        const dataTable =\n",
              "          await google.colab.kernel.invokeFunction('convertToInteractive',\n",
              "                                                    [key], {});\n",
              "        if (!dataTable) return;\n",
              "\n",
              "        const docLinkHtml = 'Like what you see? Visit the ' +\n",
              "          '<a target=\"_blank\" href=https://colab.research.google.com/notebooks/data_table.ipynb>data table notebook</a>'\n",
              "          + ' to learn more about interactive tables.';\n",
              "        element.innerHTML = '';\n",
              "        dataTable['output_type'] = 'display_data';\n",
              "        await google.colab.output.renderOutput(dataTable, element);\n",
              "        const docLink = document.createElement('div');\n",
              "        docLink.innerHTML = docLinkHtml;\n",
              "        element.appendChild(docLink);\n",
              "      }\n",
              "    </script>\n",
              "  </div>\n",
              "\n",
              "\n",
              "<div id=\"df-3ae69d1b-e47a-40cd-a606-6b80c7662026\">\n",
              "  <button class=\"colab-df-quickchart\" onclick=\"quickchart('df-3ae69d1b-e47a-40cd-a606-6b80c7662026')\"\n",
              "            title=\"Suggest charts\"\n",
              "            style=\"display:none;\">\n",
              "\n",
              "<svg xmlns=\"http://www.w3.org/2000/svg\" height=\"24px\"viewBox=\"0 0 24 24\"\n",
              "     width=\"24px\">\n",
              "    <g>\n",
              "        <path d=\"M19 3H5c-1.1 0-2 .9-2 2v14c0 1.1.9 2 2 2h14c1.1 0 2-.9 2-2V5c0-1.1-.9-2-2-2zM9 17H7v-7h2v7zm4 0h-2V7h2v10zm4 0h-2v-4h2v4z\"/>\n",
              "    </g>\n",
              "</svg>\n",
              "  </button>\n",
              "\n",
              "<style>\n",
              "  .colab-df-quickchart {\n",
              "      --bg-color: #E8F0FE;\n",
              "      --fill-color: #1967D2;\n",
              "      --hover-bg-color: #E2EBFA;\n",
              "      --hover-fill-color: #174EA6;\n",
              "      --disabled-fill-color: #AAA;\n",
              "      --disabled-bg-color: #DDD;\n",
              "  }\n",
              "\n",
              "  [theme=dark] .colab-df-quickchart {\n",
              "      --bg-color: #3B4455;\n",
              "      --fill-color: #D2E3FC;\n",
              "      --hover-bg-color: #434B5C;\n",
              "      --hover-fill-color: #FFFFFF;\n",
              "      --disabled-bg-color: #3B4455;\n",
              "      --disabled-fill-color: #666;\n",
              "  }\n",
              "\n",
              "  .colab-df-quickchart {\n",
              "    background-color: var(--bg-color);\n",
              "    border: none;\n",
              "    border-radius: 50%;\n",
              "    cursor: pointer;\n",
              "    display: none;\n",
              "    fill: var(--fill-color);\n",
              "    height: 32px;\n",
              "    padding: 0;\n",
              "    width: 32px;\n",
              "  }\n",
              "\n",
              "  .colab-df-quickchart:hover {\n",
              "    background-color: var(--hover-bg-color);\n",
              "    box-shadow: 0 1px 2px rgba(60, 64, 67, 0.3), 0 1px 3px 1px rgba(60, 64, 67, 0.15);\n",
              "    fill: var(--button-hover-fill-color);\n",
              "  }\n",
              "\n",
              "  .colab-df-quickchart-complete:disabled,\n",
              "  .colab-df-quickchart-complete:disabled:hover {\n",
              "    background-color: var(--disabled-bg-color);\n",
              "    fill: var(--disabled-fill-color);\n",
              "    box-shadow: none;\n",
              "  }\n",
              "\n",
              "  .colab-df-spinner {\n",
              "    border: 2px solid var(--fill-color);\n",
              "    border-color: transparent;\n",
              "    border-bottom-color: var(--fill-color);\n",
              "    animation:\n",
              "      spin 1s steps(1) infinite;\n",
              "  }\n",
              "\n",
              "  @keyframes spin {\n",
              "    0% {\n",
              "      border-color: transparent;\n",
              "      border-bottom-color: var(--fill-color);\n",
              "      border-left-color: var(--fill-color);\n",
              "    }\n",
              "    20% {\n",
              "      border-color: transparent;\n",
              "      border-left-color: var(--fill-color);\n",
              "      border-top-color: var(--fill-color);\n",
              "    }\n",
              "    30% {\n",
              "      border-color: transparent;\n",
              "      border-left-color: var(--fill-color);\n",
              "      border-top-color: var(--fill-color);\n",
              "      border-right-color: var(--fill-color);\n",
              "    }\n",
              "    40% {\n",
              "      border-color: transparent;\n",
              "      border-right-color: var(--fill-color);\n",
              "      border-top-color: var(--fill-color);\n",
              "    }\n",
              "    60% {\n",
              "      border-color: transparent;\n",
              "      border-right-color: var(--fill-color);\n",
              "    }\n",
              "    80% {\n",
              "      border-color: transparent;\n",
              "      border-right-color: var(--fill-color);\n",
              "      border-bottom-color: var(--fill-color);\n",
              "    }\n",
              "    90% {\n",
              "      border-color: transparent;\n",
              "      border-bottom-color: var(--fill-color);\n",
              "    }\n",
              "  }\n",
              "</style>\n",
              "\n",
              "  <script>\n",
              "    async function quickchart(key) {\n",
              "      const quickchartButtonEl =\n",
              "        document.querySelector('#' + key + ' button');\n",
              "      quickchartButtonEl.disabled = true;  // To prevent multiple clicks.\n",
              "      quickchartButtonEl.classList.add('colab-df-spinner');\n",
              "      try {\n",
              "        const charts = await google.colab.kernel.invokeFunction(\n",
              "            'suggestCharts', [key], {});\n",
              "      } catch (error) {\n",
              "        console.error('Error during call to suggestCharts:', error);\n",
              "      }\n",
              "      quickchartButtonEl.classList.remove('colab-df-spinner');\n",
              "      quickchartButtonEl.classList.add('colab-df-quickchart-complete');\n",
              "    }\n",
              "    (() => {\n",
              "      let quickchartButtonEl =\n",
              "        document.querySelector('#df-3ae69d1b-e47a-40cd-a606-6b80c7662026 button');\n",
              "      quickchartButtonEl.style.display =\n",
              "        google.colab.kernel.accessAllowed ? 'block' : 'none';\n",
              "    })();\n",
              "  </script>\n",
              "</div>\n",
              "\n",
              "  <div id=\"id_175f4b89-166d-4037-915c-f7fc49a7e466\">\n",
              "    <style>\n",
              "      .colab-df-generate {\n",
              "        background-color: #E8F0FE;\n",
              "        border: none;\n",
              "        border-radius: 50%;\n",
              "        cursor: pointer;\n",
              "        display: none;\n",
              "        fill: #1967D2;\n",
              "        height: 32px;\n",
              "        padding: 0 0 0 0;\n",
              "        width: 32px;\n",
              "      }\n",
              "\n",
              "      .colab-df-generate:hover {\n",
              "        background-color: #E2EBFA;\n",
              "        box-shadow: 0px 1px 2px rgba(60, 64, 67, 0.3), 0px 1px 3px 1px rgba(60, 64, 67, 0.15);\n",
              "        fill: #174EA6;\n",
              "      }\n",
              "\n",
              "      [theme=dark] .colab-df-generate {\n",
              "        background-color: #3B4455;\n",
              "        fill: #D2E3FC;\n",
              "      }\n",
              "\n",
              "      [theme=dark] .colab-df-generate:hover {\n",
              "        background-color: #434B5C;\n",
              "        box-shadow: 0px 1px 3px 1px rgba(0, 0, 0, 0.15);\n",
              "        filter: drop-shadow(0px 1px 2px rgba(0, 0, 0, 0.3));\n",
              "        fill: #FFFFFF;\n",
              "      }\n",
              "    </style>\n",
              "    <button class=\"colab-df-generate\" onclick=\"generateWithVariable('df')\"\n",
              "            title=\"Generate code using this dataframe.\"\n",
              "            style=\"display:none;\">\n",
              "\n",
              "  <svg xmlns=\"http://www.w3.org/2000/svg\" height=\"24px\"viewBox=\"0 0 24 24\"\n",
              "       width=\"24px\">\n",
              "    <path d=\"M7,19H8.4L18.45,9,17,7.55,7,17.6ZM5,21V16.75L18.45,3.32a2,2,0,0,1,2.83,0l1.4,1.43a1.91,1.91,0,0,1,.58,1.4,1.91,1.91,0,0,1-.58,1.4L9.25,21ZM18.45,9,17,7.55Zm-12,3A5.31,5.31,0,0,0,4.9,8.1,5.31,5.31,0,0,0,1,6.5,5.31,5.31,0,0,0,4.9,4.9,5.31,5.31,0,0,0,6.5,1,5.31,5.31,0,0,0,8.1,4.9,5.31,5.31,0,0,0,12,6.5,5.46,5.46,0,0,0,6.5,12Z\"/>\n",
              "  </svg>\n",
              "    </button>\n",
              "    <script>\n",
              "      (() => {\n",
              "      const buttonEl =\n",
              "        document.querySelector('#id_175f4b89-166d-4037-915c-f7fc49a7e466 button.colab-df-generate');\n",
              "      buttonEl.style.display =\n",
              "        google.colab.kernel.accessAllowed ? 'block' : 'none';\n",
              "\n",
              "      buttonEl.onclick = () => {\n",
              "        google.colab.notebook.generateWithVariable('df');\n",
              "      }\n",
              "      })();\n",
              "    </script>\n",
              "  </div>\n",
              "\n",
              "    </div>\n",
              "  </div>\n"
            ],
            "application/vnd.google.colaboratory.intrinsic+json": {
              "type": "dataframe",
              "variable_name": "df",
              "repr_error": "'str' object has no attribute 'empty'"
            }
          },
          "metadata": {},
          "execution_count": 2
        }
      ]
    },
    {
      "cell_type": "code",
      "source": [
        "#check na --> at day 02/25/2024, all price is Null, I download data at 02/26/2024, maybe this system have some error or need time to compute price at yesterday?\n",
        "df.Open.isna().sum()"
      ],
      "metadata": {
        "colab": {
          "base_uri": "https://localhost:8080/"
        },
        "id": "zaGunAJkPaYX",
        "outputId": "b6753382-beae-45b7-e44d-7d208e818d12"
      },
      "execution_count": 3,
      "outputs": [
        {
          "output_type": "execute_result",
          "data": {
            "text/plain": [
              "1"
            ]
          },
          "metadata": {},
          "execution_count": 3
        }
      ]
    },
    {
      "cell_type": "code",
      "source": [
        "#only use Open column and dropna\n",
        "df = df[['Open']].dropna()"
      ],
      "metadata": {
        "id": "tn1TeV8NsXQr"
      },
      "execution_count": 4,
      "outputs": []
    },
    {
      "cell_type": "code",
      "source": [
        "df.Open.describe()"
      ],
      "metadata": {
        "colab": {
          "base_uri": "https://localhost:8080/"
        },
        "id": "7U-njsQJPO3j",
        "outputId": "a9df0870-ced7-42a1-97f8-aa01a8bf2986"
      },
      "execution_count": 5,
      "outputs": [
        {
          "output_type": "execute_result",
          "data": {
            "text/plain": [
              "count     3449.000000\n",
              "mean     15069.681277\n",
              "std      16523.172718\n",
              "min        176.897003\n",
              "25%        970.940979\n",
              "50%       8405.567383\n",
              "75%      25934.021484\n",
              "max      67549.734375\n",
              "Name: Open, dtype: float64"
            ]
          },
          "metadata": {},
          "execution_count": 5
        }
      ]
    },
    {
      "cell_type": "code",
      "source": [
        "len(df)"
      ],
      "metadata": {
        "colab": {
          "base_uri": "https://localhost:8080/"
        },
        "id": "M2yCq93gs5dm",
        "outputId": "4984e17e-4a04-4523-8d7f-8460dcb31127"
      },
      "execution_count": 6,
      "outputs": [
        {
          "output_type": "execute_result",
          "data": {
            "text/plain": [
              "3449"
            ]
          },
          "metadata": {},
          "execution_count": 6
        }
      ]
    },
    {
      "cell_type": "code",
      "source": [
        "plt.figure(figsize=(10, 6))\n",
        "plt.plot(df['Open'], label='Price')\n",
        "plt.title('Price Data Over Time')\n",
        "plt.xlabel('Date')\n",
        "plt.ylabel('Price')\n",
        "plt.legend()\n",
        "plt.show()"
      ],
      "metadata": {
        "colab": {
          "base_uri": "https://localhost:8080/",
          "height": 564
        },
        "id": "PpIxZ74IPEEa",
        "outputId": "dc14a2e3-1eb8-4ebe-f766-5022ae0659c0"
      },
      "execution_count": 7,
      "outputs": [
        {
          "output_type": "display_data",
          "data": {
            "text/plain": [
              "<Figure size 1000x600 with 1 Axes>"
            ],
            "image/png": "[encoded data removed]"
          },
          "metadata": {}
        }
      ]
    },
    {
      "cell_type": "code",
      "source": [
        "df['Log_Price'] = df['Open'].apply(lambda x: np.log(x))"
      ],
      "metadata": {
        "id": "DdTRSx35PEHC"
      },
      "execution_count": 8,
      "outputs": []
    },
    {
      "cell_type": "code",
      "source": [
        "# Assuming df is your DataFrame with a column 'Price'\n",
        "# If the DataFrame has a datetime index, you can use df.index instead of df['Date']\n",
        "\n",
        "# Example code:\n",
        "plt.figure(figsize=(10, 6))\n",
        "plt.plot(df['Log_Price'], label='Price')\n",
        "plt.title('Price Data Over Time')\n",
        "plt.xlabel('Date')\n",
        "plt.ylabel('Price')\n",
        "plt.legend()\n",
        "plt.show()"
      ],
      "metadata": {
        "colab": {
          "base_uri": "https://localhost:8080/",
          "height": 564
        },
        "id": "TowVfW61QgLD",
        "outputId": "36af1d83-7c49-4c26-e3d5-51107b359435"
      },
      "execution_count": 9,
      "outputs": [
        {
          "output_type": "display_data",
          "data": {
            "text/plain": [
              "<Figure size 1000x600 with 1 Axes>"
            ],
            "image/png": "[encoded data removed]"
          },
          "metadata": {}
        }
      ]
    },
    {
      "cell_type": "markdown",
      "source": [
        "# Prepair data\n",
        "Before building model, we need convert df.Open to dataset include input and output. And we need split dataset to train dataset, val dataset, test dataset\n",
        "\n",
        "I want to use basic LSTM model, then I need create dataset with input is sequence of past price (in this project, we use sequence price of 30 day before output) and output is the next price.\n",
        "\n",
        "I use function create_sequences to create dataset"
      ],
      "metadata": {
        "id": "libP1bapQrEv"
      }
    },
    {
      "cell_type": "code",
      "source": [
        "def create_sequences(data, sequence_length):\n",
        "    sequences = []\n",
        "    target = []\n",
        "    for i in range(len(data) - sequence_length):\n",
        "        seq = data[i:i+sequence_length]\n",
        "        label = data[i+sequence_length]\n",
        "        sequences.append(seq)\n",
        "        target.append(label)\n",
        "    return np.array(sequences), np.array(target)"
      ],
      "metadata": {
        "id": "ltMNudVKQgN-"
      },
      "execution_count": 10,
      "outputs": []
    },
    {
      "cell_type": "code",
      "source": [
        "# Hyperparameters\n",
        "sequence_length = 30  # Number day as input to use to predict output price (price at next day)\n",
        "\n",
        "# Create sequences and target\n",
        "sequences, target = create_sequences(df['Open'].values, sequence_length)"
      ],
      "metadata": {
        "id": "GkqsoPoJRYvF"
      },
      "execution_count": 11,
      "outputs": []
    },
    {
      "cell_type": "code",
      "source": [
        "sequences.shape, target.shape"
      ],
      "metadata": {
        "colab": {
          "base_uri": "https://localhost:8080/"
        },
        "id": "KUsn8JUARutU",
        "outputId": "8dc1d9b9-e2c7-4c8f-b860-780b29fac681"
      },
      "execution_count": 12,
      "outputs": [
        {
          "output_type": "execute_result",
          "data": {
            "text/plain": [
              "((3419, 30), (3419,))"
            ]
          },
          "metadata": {},
          "execution_count": 12
        }
      ]
    },
    {
      "cell_type": "markdown",
      "source": [
        "# split dataset\n",
        "split dataset (sequences, target) to train, val and test data.\n",
        "\n",
        "I use 60 lastest day as test data. 20% next lastest as val data."
      ],
      "metadata": {
        "id": "FN-RKkO1SAZt"
      }
    },
    {
      "cell_type": "code",
      "source": [
        "test_size = 60\n",
        "X_test, y_test = sequences[-test_size:], target[-test_size:]\n",
        "X_train, y_train = sequences[:-test_size], target[:-test_size]\n",
        "\n",
        "train_size = int(0.8 * len(X_train))\n",
        "X_val, y_val = X_train[train_size:], y_train[train_size:]\n",
        "X_train, y_train = X_train[:train_size], y_train[:train_size]"
      ],
      "metadata": {
        "id": "k4JZfoctSGv1"
      },
      "execution_count": 13,
      "outputs": []
    },
    {
      "cell_type": "code",
      "source": [
        "X_train.shape, X_val.shape, X_test.shape"
      ],
      "metadata": {
        "colab": {
          "base_uri": "https://localhost:8080/"
        },
        "id": "Y_hiUoTYSdu6",
        "outputId": "76fa2eb4-3b7d-48e0-d27c-f66a48a725e3"
      },
      "execution_count": 14,
      "outputs": [
        {
          "output_type": "execute_result",
          "data": {
            "text/plain": [
              "((2687, 30), (672, 30), (60, 30))"
            ]
          },
          "metadata": {},
          "execution_count": 14
        }
      ]
    },
    {
      "cell_type": "code",
      "source": [
        "y_train.shape, y_val.shape, y_test.shape"
      ],
      "metadata": {
        "colab": {
          "base_uri": "https://localhost:8080/"
        },
        "id": "amg_ze55Sizq",
        "outputId": "631152cc-2e7d-46ae-9b94-31f3679f165e"
      },
      "execution_count": 15,
      "outputs": [
        {
          "output_type": "execute_result",
          "data": {
            "text/plain": [
              "((2687,), (672,), (60,))"
            ]
          },
          "metadata": {},
          "execution_count": 15
        }
      ]
    },
    {
      "cell_type": "markdown",
      "source": [
        "#Normalize data\n",
        "dataset need normalized before train model. I use MinMaxScaler to normalize dataset.\n",
        "\n",
        "First we fit MinMaxScaler with train data and then normalzie all data from this MInMaxScaler"
      ],
      "metadata": {
        "id": "dzlwQkt4RzcN"
      }
    },
    {
      "cell_type": "code",
      "source": [
        "scaler = MinMaxScaler()\n",
        "\n",
        "X_train = scaler.fit_transform(X_train.reshape(-1, 1)).reshape((-1, 30))\n",
        "X_train.shape"
      ],
      "metadata": {
        "colab": {
          "base_uri": "https://localhost:8080/"
        },
        "id": "2U-MWs61SvNM",
        "outputId": "4458f5a4-06f4-4e52-ac7b-bbd85d98ab52"
      },
      "execution_count": 16,
      "outputs": [
        {
          "output_type": "execute_result",
          "data": {
            "text/plain": [
              "(2687, 30)"
            ]
          },
          "metadata": {},
          "execution_count": 16
        }
      ]
    },
    {
      "cell_type": "code",
      "source": [
        "X_val = scaler.transform(X_val.reshape(-1, 1)).reshape((-1, 30))\n",
        "X_test = scaler.transform(X_test.reshape(-1, 1)).reshape((-1, 30))\n",
        "\n",
        "y_train = scaler.transform(y_train.reshape(-1, 1)).reshape(-1)\n",
        "y_val = scaler.transform(y_val.reshape(-1, 1)).reshape(-1)\n",
        "y_test = scaler.transform(y_test.reshape(-1, 1)).reshape(-1)"
      ],
      "metadata": {
        "id": "7Rdvk40MSvQV"
      },
      "execution_count": 17,
      "outputs": []
    },
    {
      "cell_type": "markdown",
      "source": [
        "#train model\n",
        "first reshape dataset to fit LSTM:\n",
        "- input have shape: (num_data, len, feature) --> (num_data, 30, 1)\n",
        "- output have shape: (num_data)"
      ],
      "metadata": {
        "id": "7RQtpvzzTW1d"
      }
    },
    {
      "cell_type": "code",
      "source": [
        "# Reshape the data for LSTM input\n",
        "X_train = X_train.reshape((X_train.shape[0], X_train.shape[1], 1))\n",
        "X_val = X_val.reshape((X_val.shape[0], X_val.shape[1], 1))\n",
        "X_test = X_test.reshape((X_test.shape[0], X_test.shape[1], 1))"
      ],
      "metadata": {
        "id": "5qh97FIUTV8U"
      },
      "execution_count": 18,
      "outputs": []
    },
    {
      "cell_type": "markdown",
      "source": [
        "## create LSTM model"
      ],
      "metadata": {
        "id": "Mk9grA_ITop3"
      }
    },
    {
      "cell_type": "code",
      "source": [
        "# Build the LSTM model\n",
        "model = Sequential()\n",
        "model.add(LSTM(10, input_shape=(X_train.shape[1], 1)))\n",
        "model.add(Dense(1))\n",
        "optimizer = tf.keras.optimizers.experimental.AdamW(weight_decay = 1e-3)\n",
        "model.compile(optimizer=optimizer, loss='mse')"
      ],
      "metadata": {
        "id": "jn2zCHI9TV_G"
      },
      "execution_count": 19,
      "outputs": []
    },
    {
      "cell_type": "markdown",
      "source": [
        "## set hyperarameters\n",
        "set epoch, batch_size"
      ],
      "metadata": {
        "id": "etoFF_vgT0ox"
      }
    },
    {
      "cell_type": "code",
      "source": [
        "# Hyperparameters\n",
        "batch_size = 32\n",
        "epochs = 50"
      ],
      "metadata": {
        "id": "omGjWwjAT5XS"
      },
      "execution_count": 21,
      "outputs": []
    },
    {
      "cell_type": "markdown",
      "source": [
        "##train model"
      ],
      "metadata": {
        "id": "2NRlefFaT6wz"
      }
    },
    {
      "cell_type": "code",
      "source": [
        "# Train the model\n",
        "model.fit(X_train, y_train, epochs=epochs, batch_size=batch_size, validation_data=(X_val, y_val))"
      ],
      "metadata": {
        "colab": {
          "base_uri": "https://localhost:8080/"
        },
        "id": "fih2V_tQTxSB",
        "outputId": "3acc47ab-3765-4aa9-a423-08c00a61f9eb"
      },
      "execution_count": 22,
      "outputs": [
        {
          "output_type": "stream",
          "name": "stdout",
          "text": [
            "Epoch 1/50\n",
            "84/84 [==============================] - 5s 19ms/step - loss: 0.0466 - val_loss: 0.0110\n",
            "Epoch 2/50\n",
            "84/84 [==============================] - 1s 14ms/step - loss: 0.0014 - val_loss: 0.0049\n",
            "Epoch 3/50\n",
            "84/84 [==============================] - 1s 13ms/step - loss: 0.0011 - val_loss: 0.0046\n",
            "Epoch 4/50\n",
            "84/84 [==============================] - 1s 12ms/step - loss: 9.5418e-04 - val_loss: 0.0026\n",
            "Epoch 5/50\n",
            "84/84 [==============================] - 1s 13ms/step - loss: 8.2619e-04 - val_loss: 0.0018\n",
            "Epoch 6/50\n",
            "84/84 [==============================] - 1s 14ms/step - loss: 7.4646e-04 - val_loss: 0.0014\n",
            "Epoch 7/50\n",
            "84/84 [==============================] - 1s 13ms/step - loss: 6.5498e-04 - val_loss: 0.0018\n",
            "Epoch 8/50\n",
            "84/84 [==============================] - 1s 13ms/step - loss: 6.1632e-04 - val_loss: 0.0011\n",
            "Epoch 9/50\n",
            "84/84 [==============================] - 1s 16ms/step - loss: 5.7055e-04 - val_loss: 0.0011\n",
            "Epoch 10/50\n",
            "84/84 [==============================] - 1s 18ms/step - loss: 5.2330e-04 - val_loss: 0.0011\n",
            "Epoch 11/50\n",
            "84/84 [==============================] - 1s 13ms/step - loss: 5.0879e-04 - val_loss: 8.7961e-04\n",
            "Epoch 12/50\n",
            "84/84 [==============================] - 1s 13ms/step - loss: 4.9079e-04 - val_loss: 9.2721e-04\n",
            "Epoch 13/50\n",
            "84/84 [==============================] - 1s 13ms/step - loss: 4.7047e-04 - val_loss: 5.8458e-04\n",
            "Epoch 14/50\n",
            "84/84 [==============================] - 1s 12ms/step - loss: 4.6209e-04 - val_loss: 8.0098e-04\n",
            "Epoch 15/50\n",
            "84/84 [==============================] - 1s 13ms/step - loss: 4.3773e-04 - val_loss: 7.7542e-04\n",
            "Epoch 16/50\n",
            "84/84 [==============================] - 1s 13ms/step - loss: 4.2839e-04 - val_loss: 9.4590e-04\n",
            "Epoch 17/50\n",
            "84/84 [==============================] - 1s 12ms/step - loss: 4.2350e-04 - val_loss: 0.0012\n",
            "Epoch 18/50\n",
            "84/84 [==============================] - 1s 12ms/step - loss: 4.0346e-04 - val_loss: 0.0012\n",
            "Epoch 19/50\n",
            "84/84 [==============================] - 1s 14ms/step - loss: 3.9376e-04 - val_loss: 5.5493e-04\n",
            "Epoch 20/50\n",
            "84/84 [==============================] - 1s 16ms/step - loss: 3.8384e-04 - val_loss: 5.0273e-04\n",
            "Epoch 21/50\n",
            "84/84 [==============================] - 1s 17ms/step - loss: 3.8858e-04 - val_loss: 9.8136e-04\n",
            "Epoch 22/50\n",
            "84/84 [==============================] - 1s 14ms/step - loss: 3.8272e-04 - val_loss: 4.4812e-04\n",
            "Epoch 23/50\n",
            "84/84 [==============================] - 1s 13ms/step - loss: 3.6636e-04 - val_loss: 7.4663e-04\n",
            "Epoch 24/50\n",
            "84/84 [==============================] - 1s 12ms/step - loss: 3.6399e-04 - val_loss: 7.7057e-04\n",
            "Epoch 25/50\n",
            "84/84 [==============================] - 1s 12ms/step - loss: 3.5190e-04 - val_loss: 4.7201e-04\n",
            "Epoch 26/50\n",
            "84/84 [==============================] - 1s 13ms/step - loss: 3.4898e-04 - val_loss: 4.4206e-04\n",
            "Epoch 27/50\n",
            "84/84 [==============================] - 1s 12ms/step - loss: 3.3190e-04 - val_loss: 3.8673e-04\n",
            "Epoch 28/50\n",
            "84/84 [==============================] - 1s 12ms/step - loss: 3.2075e-04 - val_loss: 4.6088e-04\n",
            "Epoch 29/50\n",
            "84/84 [==============================] - 1s 12ms/step - loss: 3.1906e-04 - val_loss: 3.8047e-04\n",
            "Epoch 30/50\n",
            "84/84 [==============================] - 1s 12ms/step - loss: 3.2670e-04 - val_loss: 4.2664e-04\n",
            "Epoch 31/50\n",
            "84/84 [==============================] - 1s 12ms/step - loss: 3.1719e-04 - val_loss: 5.2966e-04\n",
            "Epoch 32/50\n",
            "84/84 [==============================] - 1s 16ms/step - loss: 3.0466e-04 - val_loss: 3.9354e-04\n",
            "Epoch 33/50\n",
            "84/84 [==============================] - 1s 18ms/step - loss: 2.9797e-04 - val_loss: 3.5721e-04\n",
            "Epoch 34/50\n",
            "84/84 [==============================] - 1s 14ms/step - loss: 2.9354e-04 - val_loss: 4.0316e-04\n",
            "Epoch 35/50\n",
            "84/84 [==============================] - 1s 12ms/step - loss: 2.8664e-04 - val_loss: 4.0100e-04\n",
            "Epoch 36/50\n",
            "84/84 [==============================] - 1s 12ms/step - loss: 2.8346e-04 - val_loss: 3.7548e-04\n",
            "Epoch 37/50\n",
            "84/84 [==============================] - 1s 12ms/step - loss: 2.7908e-04 - val_loss: 5.8600e-04\n",
            "Epoch 38/50\n",
            "84/84 [==============================] - 1s 13ms/step - loss: 2.8595e-04 - val_loss: 6.1352e-04\n",
            "Epoch 39/50\n",
            "84/84 [==============================] - 1s 13ms/step - loss: 2.6953e-04 - val_loss: 3.2030e-04\n",
            "Epoch 40/50\n",
            "84/84 [==============================] - 1s 13ms/step - loss: 2.8171e-04 - val_loss: 3.1657e-04\n",
            "Epoch 41/50\n",
            "84/84 [==============================] - 1s 12ms/step - loss: 2.6907e-04 - val_loss: 3.6207e-04\n",
            "Epoch 42/50\n",
            "84/84 [==============================] - 1s 12ms/step - loss: 2.5998e-04 - val_loss: 2.8858e-04\n",
            "Epoch 43/50\n",
            "84/84 [==============================] - 1s 13ms/step - loss: 2.5104e-04 - val_loss: 3.1071e-04\n",
            "Epoch 44/50\n",
            "84/84 [==============================] - 1s 16ms/step - loss: 2.4415e-04 - val_loss: 2.9283e-04\n",
            "Epoch 45/50\n",
            "84/84 [==============================] - 1s 16ms/step - loss: 2.4567e-04 - val_loss: 2.7611e-04\n",
            "Epoch 46/50\n",
            "84/84 [==============================] - 1s 12ms/step - loss: 2.4731e-04 - val_loss: 2.9335e-04\n",
            "Epoch 47/50\n",
            "84/84 [==============================] - 1s 13ms/step - loss: 2.4450e-04 - val_loss: 2.9151e-04\n",
            "Epoch 48/50\n",
            "84/84 [==============================] - 1s 12ms/step - loss: 2.4250e-04 - val_loss: 2.6802e-04\n",
            "Epoch 49/50\n",
            "84/84 [==============================] - 1s 12ms/step - loss: 2.3969e-04 - val_loss: 2.8567e-04\n",
            "Epoch 50/50\n",
            "84/84 [==============================] - 1s 11ms/step - loss: 2.3346e-04 - val_loss: 4.6376e-04\n"
          ]
        },
        {
          "output_type": "execute_result",
          "data": {
            "text/plain": [
              "<keras.src.callbacks.History at 0x78d3c00aa200>"
            ]
          },
          "metadata": {},
          "execution_count": 22
        }
      ]
    },
    {
      "cell_type": "markdown",
      "source": [
        "## eval test loss"
      ],
      "metadata": {
        "id": "1e3EIuUWUHyU"
      }
    },
    {
      "cell_type": "code",
      "source": [
        "# Evaluate the model\n",
        "loss = model.evaluate(X_test, y_test)\n",
        "print(f'Model Loss: {loss}')"
      ],
      "metadata": {
        "colab": {
          "base_uri": "https://localhost:8080/"
        },
        "id": "3Wqv07H8SvS8",
        "outputId": "fbff25b1-3024-495e-dd30-7f643e70e848"
      },
      "execution_count": 23,
      "outputs": [
        {
          "output_type": "stream",
          "name": "stdout",
          "text": [
            "2/2 [==============================] - 0s 12ms/step - loss: 4.7529e-04\n",
            "Model Loss: 0.0004752878157887608\n"
          ]
        }
      ]
    },
    {
      "cell_type": "markdown",
      "source": [
        "#make predict"
      ],
      "metadata": {
        "id": "XveY2XWbUMeO"
      }
    },
    {
      "cell_type": "code",
      "source": [
        "# Make predictions\n",
        "predicted_normalized_prices = model.predict(X_test)\n",
        "\n",
        "# Inverse transform the normalized prices to get the predicted prices\n",
        "predicted_prices = scaler.inverse_transform(predicted_normalized_prices)"
      ],
      "metadata": {
        "id": "eq7y1u9oUFMs",
        "colab": {
          "base_uri": "https://localhost:8080/"
        },
        "outputId": "8cef6128-18ce-4f49-dbed-a36009930968"
      },
      "execution_count": 24,
      "outputs": [
        {
          "output_type": "stream",
          "name": "stdout",
          "text": [
            "2/2 [==============================] - 0s 10ms/step\n"
          ]
        }
      ]
    },
    {
      "cell_type": "code",
      "source": [
        "max_error_percent = 0\n",
        "mean_error_percent = 0\n",
        "for i, (predict, label) in enumerate(zip(predicted_prices.reshape(-1), scaler.inverse_transform(y_test.reshape(-1, 1)).reshape(-1))):\n",
        "    error_percent = np.abs(predict-label)/label*100\n",
        "    print(f'{i} predict price: {predict}, true price: {label}, error = {error_percent}')\n",
        "    max_error_percent = max(error_percent, max_error_percent)\n",
        "    mean_error_percent += error_percent\n",
        "print('max_error_percent', max_error_percent)\n",
        "print('mean_error_percent', mean_error_percent/len(predicted_prices))"
      ],
      "metadata": {
        "id": "RhwjgzXHUTUy",
        "colab": {
          "base_uri": "https://localhost:8080/"
        },
        "outputId": "44011714-4bb8-4316-fa85-310d59a764c3"
      },
      "execution_count": 25,
      "outputs": [
        {
          "output_type": "stream",
          "name": "stdout",
          "text": [
            "0 predict price: 44225.1640625, true price: 43468.199219, error = 1.7414221364135274\n",
            "1 predict price: 44258.2265625, true price: 42614.644531, error = 3.8568479206822417\n",
            "2 predict price: 43989.4375, true price: 42091.753906, error = 4.508445046594971\n",
            "3 predict price: 43609.89453125, true price: 42152.097656, error = 3.458420710511181\n",
            "4 predict price: 43341.140625, true price: 42280.234375, error = 2.5092250922509227\n",
            "5 predict price: 43193.578125, true price: 44187.140625, error = 2.248533138706574\n",
            "6 predict price: 43759.609375, true price: 44961.601563, error = 2.6733749382031475\n",
            "7 predict price: 44500.015625, true price: 42855.816406, error = 3.8365835886160062\n",
            "8 predict price: 44372.4765625, true price: 44192.980469, error = 0.40616426318181686\n",
            "9 predict price: 44702.73828125, true price: 44178.953125, error = 1.1855988410771108\n",
            "10 predict price: 44914.76953125, true price: 43998.464844, error = 2.082583313983404\n",
            "11 predict price: 44993.94140625, true price: 43948.707031, error = 2.378305178609071\n",
            "12 predict price: 45011.12890625, true price: 46987.640625, error = 4.206450233422419\n",
            "13 predict price: 46041.9765625, true price: 46121.539063, error = 0.17250616982082417\n",
            "14 predict price: 46533.90625, true price: 46656.074219, error = 0.26184793951277363\n",
            "15 predict price: 47072.1484375, true price: 46354.792969, error = 1.5475324611626098\n",
            "16 predict price: 47325.3671875, true price: 42799.445313, error = 10.574720867060607\n",
            "17 predict price: 46238.14453125, true price: 42842.261719, error = 7.926478845872806\n",
            "18 predict price: 45347.51171875, true price: 41715.066406, error = 8.70775387817083\n",
            "19 predict price: 44240.54296875, true price: 42499.335938, error = 4.0970217353281875\n",
            "20 predict price: 43681.3984375, true price: 43132.101563, error = 1.273522167005205\n",
            "21 predict price: 43532.3046875, true price: 42742.3125, error = 1.8482673053780139\n",
            "22 predict price: 43372.21875, true price: 41278.460938, error = 5.072276834993474\n",
            "23 predict price: 42818.796875, true price: 41624.589844, error = 2.868994110153707\n",
            "24 predict price: 42549.37109375, true price: 41671.488281, error = 2.1066749688185964\n",
            "25 predict price: 42393.5859375, true price: 41553.652344, error = 2.0213231475939746\n",
            "26 predict price: 42278.71875, true price: 39518.714844, error = 6.984042666607719\n",
            "27 predict price: 41535.703125, true price: 39877.59375, error = 4.1579975597198615\n",
            "28 predict price: 41103.4609375, true price: 40075.550781, error = 2.5649308280682166\n",
            "29 predict price: 40864.7578125, true price: 39936.816406, error = 2.3235237307513334\n",
            "30 predict price: 40685.29296875, true price: 41815.625, error = 2.703133173903296\n",
            "31 predict price: 41238.96484375, true price: 42126.125, error = 2.105961932767374\n",
            "32 predict price: 41830.07421875, true price: 42030.914063, error = 0.4778383928290457\n",
            "33 predict price: 42290.1484375, true price: 43300.226563, error = 2.332731733009239\n",
            "34 predict price: 43071.3125, true price: 42946.25, error = 0.2912070320458713\n",
            "35 predict price: 43528.18359375, true price: 42569.761719, error = 2.2514147038841172\n",
            "36 predict price: 43707.89453125, true price: 43077.640625, error = 1.4630650544130166\n",
            "37 predict price: 43958.5, true price: 43184.964844, error = 1.7912140458937318\n",
            "38 predict price: 44136.49609375, true price: 42994.941406, error = 2.655090693043011\n",
            "39 predict price: 44170.796875, true price: 42577.621094, error = 3.741814925457418\n",
            "40 predict price: 44020.74609375, true price: 42657.390625, error = 3.196059226255122\n",
            "41 predict price: 43903.3515625, true price: 43090.019531, error = 1.887518363538618\n",
            "42 predict price: 43944.6328125, true price: 44332.12499999999, error = 0.8740663514324947\n",
            "43 predict price: 44401.58984375, true price: 45297.382813, error = 1.9775821772045312\n",
            "44 predict price: 45093.828125, true price: 47153.527344, error = 4.368070290847681\n",
            "45 predict price: 46264.6484375, true price: 47768.96875, error = 3.149158024266538\n",
            "46 predict price: 47356.140625, true price: 48296.386719, error = 1.9468249239235638\n",
            "47 predict price: 48318.90625, true price: 49941.359375, error = 3.2487163851855003\n",
            "48 predict price: 49529.72265625, true price: 49733.445313, error = 0.4096290845483508\n",
            "49 predict price: 50279.7734375, true price: 51836.785156, error = 3.003681099848796\n",
            "50 predict price: 51460.0625, true price: 51937.726563, error = 0.9196861214566147\n",
            "51 predict price: 52277.50390625, true price: 52161.675781, error = 0.22205598941319396\n",
            "52 predict price: 52862.546875, true price: 51661.96875, error = 2.3239109039955044\n",
            "53 predict price: 53015.94921875, true price: 52134.8125, error = 1.6901119933058164\n",
            "54 predict price: 53187.171875, true price: 51777.726563, error = 2.722107372337169\n",
            "55 predict price: 53109.30078125, true price: 52273.535156, error = 1.5988312685488462\n",
            "56 predict price: 53161.83203125, true price: 51854.64453099999, error = 2.5208686937744607\n",
            "57 predict price: 53016.9453125, true price: 51283.90625, error = 3.379303936115436\n",
            "58 predict price: 52685.671875, true price: 50736.371094, error = 3.842018534176401\n",
            "59 predict price: 52228.3125, true price: 51730.539063, error = 0.9622428956206902\n",
            "max_error_percent 10.574720867060607\n",
            "mean_error_percent 2.727621415688543\n"
          ]
        }
      ]
    },
    {
      "cell_type": "markdown",
      "source": [
        "## predict multiple day\n",
        "We can see that the predict price is nearly with true price (low average error beween predict price and true price).\n",
        "\n",
        "Then I use 30 first test day as input. Loop to predict next day and add predict price as lastest input."
      ],
      "metadata": {
        "id": "NJvLoZqhVffu"
      }
    },
    {
      "cell_type": "code",
      "source": [
        "# Make predictions\n",
        "predicted_normalized_prices = []\n",
        "X = X_test[30].reshape(-1).tolist()\n",
        "\n",
        "for i in range(30):\n",
        "    input_ = np.array(X).reshape((1, 30, 1))\n",
        "    predict = model.predict(input_)\n",
        "    predicted_normalized_prices.append(predict[0][0])\n",
        "    X = X[1:] + [predict[0][0]]\n",
        "\n",
        "predicted_normalized_prices = np.array(predicted_normalized_prices).reshape((-1, 1))\n",
        "predicted_prices = scaler.inverse_transform(predicted_normalized_prices)"
      ],
      "metadata": {
        "id": "NDEWTNuEYokZ",
        "colab": {
          "base_uri": "https://localhost:8080/"
        },
        "outputId": "c5290533-bf78-434e-89b2-193909a54a03"
      },
      "execution_count": 26,
      "outputs": [
        {
          "output_type": "stream",
          "name": "stdout",
          "text": [
            "1/1 [==============================] - 0s 22ms/step\n",
            "1/1 [==============================] - 0s 23ms/step\n",
            "1/1 [==============================] - 0s 24ms/step\n",
            "1/1 [==============================] - 0s 25ms/step\n",
            "1/1 [==============================] - 0s 24ms/step\n",
            "1/1 [==============================] - 0s 23ms/step\n",
            "1/1 [==============================] - 0s 23ms/step\n",
            "1/1 [==============================] - 0s 22ms/step\n",
            "1/1 [==============================] - 0s 29ms/step\n",
            "1/1 [==============================] - 0s 26ms/step\n",
            "1/1 [==============================] - 0s 22ms/step\n",
            "1/1 [==============================] - 0s 24ms/step\n",
            "1/1 [==============================] - 0s 25ms/step\n",
            "1/1 [==============================] - 0s 47ms/step\n",
            "1/1 [==============================] - 0s 36ms/step\n",
            "1/1 [==============================] - 0s 32ms/step\n",
            "1/1 [==============================] - 0s 45ms/step\n",
            "1/1 [==============================] - 0s 34ms/step\n",
            "1/1 [==============================] - 0s 36ms/step\n",
            "1/1 [==============================] - 0s 45ms/step\n",
            "1/1 [==============================] - 0s 38ms/step\n",
            "1/1 [==============================] - 0s 41ms/step\n",
            "1/1 [==============================] - 0s 35ms/step\n",
            "1/1 [==============================] - 0s 35ms/step\n",
            "1/1 [==============================] - 0s 38ms/step\n",
            "1/1 [==============================] - 0s 36ms/step\n",
            "1/1 [==============================] - 0s 42ms/step\n",
            "1/1 [==============================] - 0s 32ms/step\n",
            "1/1 [==============================] - 0s 56ms/step\n",
            "1/1 [==============================] - 0s 40ms/step\n"
          ]
        }
      ]
    },
    {
      "cell_type": "code",
      "source": [
        "max_error_percent = 0\n",
        "mean_error_percent = 0\n",
        "for predict, label in zip(predicted_prices.reshape(-1), scaler.inverse_transform(y_test[30:].reshape(-1, 1)).reshape(-1)):\n",
        "    error_percent = np.abs(predict-label)/label*100\n",
        "    print(f'predict price: {predict}, true price: {label}, error = {error_percent}')\n",
        "    max_error_percent = max(error_percent, max_error_percent)\n",
        "    mean_error_percent += error_percent\n",
        "print('max_error_percent', max_error_percent)\n",
        "print('mean_error_percent', mean_error_percent/len(predicted_prices))"
      ],
      "metadata": {
        "id": "jtZdB7OlYmwq",
        "colab": {
          "base_uri": "https://localhost:8080/"
        },
        "outputId": "c0d22475-fb4c-438b-f970-d768c9a6ae37"
      },
      "execution_count": 27,
      "outputs": [
        {
          "output_type": "stream",
          "name": "stdout",
          "text": [
            "predict price: 40685.29296875, true price: 41815.625, error = 2.703133173903296\n",
            "predict price: 40853.6953125, true price: 42126.125, error = 3.020523932595272\n",
            "predict price: 41090.0234375, true price: 42030.914063, error = 2.2385680789375617\n",
            "predict price: 41388.80859375, true price: 43300.226563, error = 4.414337108534442\n",
            "predict price: 41736.01953125, true price: 42946.25, error = 2.8180119771807783\n",
            "predict price: 42121.26953125, true price: 42569.761719, error = 1.0535463898305732\n",
            "predict price: 42537.51171875, true price: 43077.640625, error = 1.2538497893882738\n",
            "predict price: 42979.18359375, true price: 43184.964844, error = 0.4765113297958203\n",
            "predict price: 43441.5078125, true price: 42994.941406, error = 1.0386487151664847\n",
            "predict price: 43921.33203125, true price: 42577.621094, error = 3.1559089087749728\n",
            "predict price: 44415.2265625, true price: 42657.390625, error = 4.120823875405529\n",
            "predict price: 44920.22265625, true price: 43090.019531, error = 4.247394513092086\n",
            "predict price: 45433.625, true price: 44332.12499999999, error = 2.484654187003234\n",
            "predict price: 45953.3671875, true price: 45297.382813, error = 1.448172794459421\n",
            "predict price: 46476.55859375, true price: 47153.527344, error = 1.435669372751903\n",
            "predict price: 47001.18359375, true price: 47768.96875, error = 1.6072885313229628\n",
            "predict price: 47525.06640625, true price: 48296.386719, error = 1.5970559396870185\n",
            "predict price: 48045.7578125, true price: 49941.359375, error = 3.7956547162969567\n",
            "predict price: 48561.9375, true price: 49733.445313, error = 2.355573408652974\n",
            "predict price: 49071.81640625, true price: 51836.785156, error = 5.333989639652565\n",
            "predict price: 49574.18359375, true price: 51937.726563, error = 4.550724734520369\n",
            "predict price: 50067.734375, true price: 52161.675781, error = 4.014329245845895\n",
            "predict price: 50551.171875, true price: 51661.96875, error = 2.150124940796028\n",
            "predict price: 51023.3515625, true price: 52134.8125, error = 2.1318978321826707\n",
            "predict price: 51483.6328125, true price: 51777.726563, error = 0.5679927838124779\n",
            "predict price: 51931.29296875, true price: 52273.535156, error = 0.6547140655948448\n",
            "predict price: 52365.69921875, true price: 51854.64453099999, error = 0.9855523885512089\n",
            "predict price: 52786.15234375, true price: 51283.90625, error = 2.9292739254822266\n",
            "predict price: 53192.6015625, true price: 50736.371094, error = 4.841163085844876\n",
            "predict price: 53584.79296875, true price: 51730.539063, error = 3.584447290394175\n",
            "max_error_percent 5.333989639652565\n",
            "mean_error_percent 2.566984555848563\n"
          ]
        }
      ]
    }
  ]
}